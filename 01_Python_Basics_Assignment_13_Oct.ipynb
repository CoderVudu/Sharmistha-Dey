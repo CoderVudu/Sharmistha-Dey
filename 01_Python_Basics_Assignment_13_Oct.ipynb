{
  "nbformat": 4,
  "nbformat_minor": 0,
  "metadata": {
    "colab": {
      "provenance": [],
      "authorship_tag": "ABX9TyOKyrARwLHSz7I2l+La38Vp",
      "include_colab_link": true
    },
    "kernelspec": {
      "name": "python3",
      "display_name": "Python 3"
    },
    "language_info": {
      "name": "python"
    }
  },
  "cells": [
    {
      "cell_type": "markdown",
      "metadata": {
        "id": "view-in-github",
        "colab_type": "text"
      },
      "source": [
        "<a href=\"https://colab.research.google.com/github/CoderVudu/Sharmistha-Dey/blob/main/01_Python_Basics_Assignment_13_Oct.ipynb\" target=\"_parent\"><img src=\"https://colab.research.google.com/assets/colab-badge.svg\" alt=\"Open In Colab\"/></a>"
      ]
    },
    {
      "cell_type": "code",
      "execution_count": null,
      "metadata": {
        "id": "HEYBvCdMmjED"
      },
      "outputs": [],
      "source": []
    },
    {
      "cell_type": "markdown",
      "source": [
        "#Q 1. Explain the key features of Python that make it a popular choice for programming?"
      ],
      "metadata": {
        "id": "FiIHu_ggoLcj"
      }
    },
    {
      "cell_type": "markdown",
      "source": [
        "ans: Key elements that make Python appealing:\n",
        "1. The syntax of Python is supposed to be straightforward and natural language-like, which makes it straightforward to read and comprehend even for newbies.\n",
        "2. Python fully embraces the object-oriented development paradigms, which enable code reuse and modular architecture.\n",
        "3. Python has a rich standard library containing modules for typical tasks such as file handling, data processing, and network operations, which reduces the requirement for other libraries.\n",
        "4. Python code may operate on a variety of operating platforms without considerable change, making it extremely portable.\n",
        "5. Python automatically identifies variable data forms at runtime, making code easier and enabling faster prototyping.\n"
      ],
      "metadata": {
        "id": "EjLcmaQpooDr"
      }
    },
    {
      "cell_type": "markdown",
      "source": [
        "#Q 2. Describe the role of predefined keywords in Python and provide examples of how they are used in a program."
      ],
      "metadata": {
        "id": "YLkUCCRrsQZv"
      }
    },
    {
      "cell_type": "markdown",
      "source": [
        "Predefined keywords, sometimes referred to as reserved words in Python, are terms that have certain meanings and functions and that specify the syntax and logic of Python code:\n",
        "One of the primary goals of predefined keywords is to outline the syntax of Python code.\n",
        "These are usually accessible and require no insertion into code.\n",
        "It has contributed significantly to developing the logic and organisation of Python programming.\n",
        "Additionally, all these keywords are not applicable as function names, variable names, or the value of an alternative identifier.\n",
        "All keywords, with the exception of True and False, are lowercase and case-sensitive.\n",
        "For example: If a certain condition is met, the break keyword can be used to end a loop.\n",
        "If, else, try, except, True, and False are some relevant and majorly used keywords in Python.\n"
      ],
      "metadata": {
        "id": "v_XLhhOHtlLv"
      }
    },
    {
      "cell_type": "code",
      "source": [
        "# Example of if-else in Python\n",
        "x = 11\n",
        "if x > 6:\n",
        "    print(\"x is greater than 6\")\n",
        "else:\n",
        "    print(\"x is 6 or less\")\n"
      ],
      "metadata": {
        "colab": {
          "base_uri": "https://localhost:8080/"
        },
        "id": "MqQIUgxsv85b",
        "outputId": "14f9db8a-c521-4e77-daf4-0a5a897bea98"
      },
      "execution_count": 4,
      "outputs": [
        {
          "output_type": "stream",
          "name": "stdout",
          "text": [
            "x is greater than 6\n"
          ]
        }
      ]
    },
    {
      "cell_type": "markdown",
      "source": [
        "#Q 3. Compare and contrast mutable and immutable objects in Python with examples."
      ],
      "metadata": {
        "id": "CQZaX-xxwnrK"
      }
    },
    {
      "cell_type": "markdown",
      "source": [
        "In the case of Python, objects can be defined as mutable or immutable depending on their ability to alter state after creation,\n",
        "Here's an overview of the main differences.\n",
        "Mutable objects:\n",
        "Description: Objects having an internal state is able to change after creation.\n",
        "For instance: dictionaries, lists, and sets.\n",
        "Behaviour: Modifications to the object have a direct impact on the actual object.\n",
        "Use Cases: Ideally suited for applications requiring dynamic data updates, including storing and managing large data sets.\n",
        "\n",
        "Immutable objects:\n",
        "Description: Objects that have an internal state which can't be modified after creation.\n",
        "Examples include integers, strings, floats, and tuples.\n",
        "Behaviour: Modifications generate an entirely new object with the modified value.\n",
        "Use Cases: Ideal for cases requiring data integrity, for example expressing constants as well as keys within dictionaries.\n"
      ],
      "metadata": {
        "id": "424QIjv1w-5H"
      }
    },
    {
      "cell_type": "code",
      "source": [
        "# Mutable Example\n",
        "my_list = [1, 2, 3]\n",
        "my_list.append(4)  # Modifies the original list\n",
        "print(my_list)\n",
        "\n",
        "# Immutable Example\n",
        "my_string = \"Hello\"\n",
        "new_string = my_string + \" PW Skills\"  # Creates a new string\n",
        "print(my_string)\n",
        "print(new_string)"
      ],
      "metadata": {
        "colab": {
          "base_uri": "https://localhost:8080/"
        },
        "id": "BD_9ILEvzH9v",
        "outputId": "e904ed2c-1eb6-4b82-f179-b8608161bc4e"
      },
      "execution_count": 7,
      "outputs": [
        {
          "output_type": "stream",
          "name": "stdout",
          "text": [
            "[1, 2, 3, 4]\n",
            "Hello\n",
            "Hello PW Skills\n"
          ]
        }
      ]
    },
    {
      "cell_type": "markdown",
      "source": [
        "#Q 4. Discuss the different types of operators in Python and provide examples of how they are used."
      ],
      "metadata": {
        "id": "1gHkRwSzzlNh"
      }
    },
    {
      "cell_type": "markdown",
      "source": [
        "Operators in Python operate on variables as well as values.\n",
        "These are the primary types:\n",
        "\n",
        "Arithmetic Operators: They execute mathematical operations."
      ],
      "metadata": {
        "id": "lUL8oipj1Hx_"
      }
    },
    {
      "cell_type": "code",
      "source": [
        "x = 15\n",
        "y = 5\n",
        "print(x + y)  # Addition: 20\n",
        "print(x * y)  # Multiplication: 75\n"
      ],
      "metadata": {
        "colab": {
          "base_uri": "https://localhost:8080/"
        },
        "id": "SAyvF9A91Kqj",
        "outputId": "b3eff1fc-9e2b-4ed8-b67d-7a95295e16cb"
      },
      "execution_count": 9,
      "outputs": [
        {
          "output_type": "stream",
          "name": "stdout",
          "text": [
            "20\n",
            "75\n"
          ]
        }
      ]
    },
    {
      "cell_type": "markdown",
      "source": [
        "Logical operators: Combine statements with conditions.\n",
        "\n"
      ],
      "metadata": {
        "id": "IJXTOFs9ztyC"
      }
    },
    {
      "cell_type": "code",
      "source": [
        "print(x > 5 and y == 5)  # Logical AND: True\n"
      ],
      "metadata": {
        "colab": {
          "base_uri": "https://localhost:8080/"
        },
        "id": "xUCnBXvf1r3Z",
        "outputId": "20b0f51c-02b8-48da-e3e9-c143b5c2b235"
      },
      "execution_count": 14,
      "outputs": [
        {
          "output_type": "stream",
          "name": "stdout",
          "text": [
            "True\n"
          ]
        }
      ]
    },
    {
      "cell_type": "markdown",
      "source": [
        "Comparison Operators: Compare between values resulting in True or False.\n"
      ],
      "metadata": {
        "id": "4crbFCTS17Zl"
      }
    },
    {
      "cell_type": "code",
      "source": [
        "print(x > y)  # Greater than: True\n",
        "print(x == y)  # Equality: False\n"
      ],
      "metadata": {
        "colab": {
          "base_uri": "https://localhost:8080/"
        },
        "id": "K2-OLx1a2L-5",
        "outputId": "ca21728f-255a-4ba7-da49-c90f624d41bb"
      },
      "execution_count": 11,
      "outputs": [
        {
          "output_type": "stream",
          "name": "stdout",
          "text": [
            "True\n",
            "False\n"
          ]
        }
      ]
    },
    {
      "cell_type": "markdown",
      "source": [
        "Bitwise Operators: Work with binary digits.\n"
      ],
      "metadata": {
        "id": "VaKJDyqM2thE"
      }
    },
    {
      "cell_type": "code",
      "source": [
        "print(x & y)  # Bitwise AND: 2\n"
      ],
      "metadata": {
        "colab": {
          "base_uri": "https://localhost:8080/"
        },
        "id": "jA7WnYTH26rb",
        "outputId": "90fffdf6-0842-4eb7-b9f8-5e067a3b5c55"
      },
      "execution_count": 15,
      "outputs": [
        {
          "output_type": "stream",
          "name": "stdout",
          "text": [
            "5\n"
          ]
        }
      ]
    },
    {
      "cell_type": "markdown",
      "source": [
        "Assignment operators: These are used for allocating values to variables.\n"
      ],
      "metadata": {
        "id": "ix09HZPi3Ume"
      }
    },
    {
      "cell_type": "code",
      "source": [
        "x =+ 2  # x = x + 2, now x is 17\n"
      ],
      "metadata": {
        "id": "LC_qZGAS3gnS"
      },
      "execution_count": 26,
      "outputs": []
    },
    {
      "cell_type": "markdown",
      "source": [
        "Membership Operators: Verify the membership of sequences.\n"
      ],
      "metadata": {
        "id": "kPKPDwsD3nuk"
      }
    },
    {
      "cell_type": "code",
      "source": [
        "print(3 in [1, 2, 3])  # True\n"
      ],
      "metadata": {
        "colab": {
          "base_uri": "https://localhost:8080/"
        },
        "id": "nW93pJEK4SRZ",
        "outputId": "ba3c815c-7495-4118-8d48-1df665adb119"
      },
      "execution_count": 20,
      "outputs": [
        {
          "output_type": "stream",
          "name": "stdout",
          "text": [
            "True\n"
          ]
        }
      ]
    },
    {
      "cell_type": "markdown",
      "source": [
        "# Q 5. Explain the concept of type casting in Python with examples."
      ],
      "metadata": {
        "id": "A_kwIjSG4hJj"
      }
    },
    {
      "cell_type": "markdown",
      "source": [
        "Type casting in the field of python involves a method of transforming one kind of information to another. It permits data to be changed between kinds in order to perform actions that need certain types.\n",
        "Type casting guarantees that data is handled correctly in Python when executing actions that need specified data types.\n"
      ],
      "metadata": {
        "id": "YAfDQsgh4rb1"
      }
    },
    {
      "cell_type": "markdown",
      "source": [
        "## Example: String to Integer:"
      ],
      "metadata": {
        "id": "JSUj-w8F5Oif"
      }
    },
    {
      "cell_type": "code",
      "source": [
        "z = \"20\"\n",
        "w = int(z)\n",
        "print(w + 5)\n"
      ],
      "metadata": {
        "colab": {
          "base_uri": "https://localhost:8080/"
        },
        "id": "A2gwKoJY5aF3",
        "outputId": "c4224017-1991-446c-869a-65d5c63f0151"
      },
      "execution_count": 22,
      "outputs": [
        {
          "output_type": "stream",
          "name": "stdout",
          "text": [
            "25\n"
          ]
        }
      ]
    },
    {
      "cell_type": "markdown",
      "source": [
        "## Integer to String:"
      ],
      "metadata": {
        "id": "0sWNFjEb5ndI"
      }
    },
    {
      "cell_type": "code",
      "source": [
        "x = 10\n",
        "y = str(x)\n",
        "print(y)\n",
        "print(type(y))\n"
      ],
      "metadata": {
        "colab": {
          "base_uri": "https://localhost:8080/"
        },
        "id": "PG4jEUnC5vtt",
        "outputId": "929bf808-1624-4200-988b-6d674a0cf434"
      },
      "execution_count": 24,
      "outputs": [
        {
          "output_type": "stream",
          "name": "stdout",
          "text": [
            "10\n",
            "<class 'str'>\n"
          ]
        }
      ]
    },
    {
      "cell_type": "markdown",
      "source": [
        "## Float to Integer:"
      ],
      "metadata": {
        "id": "SCr_L4hu6Kw_"
      }
    },
    {
      "cell_type": "code",
      "source": [
        "f = 3.14\n",
        "i = int(f)\n",
        "print(i)\n"
      ],
      "metadata": {
        "colab": {
          "base_uri": "https://localhost:8080/"
        },
        "id": "zlrWUBvu6PMz",
        "outputId": "92808db2-e281-4ec6-9370-f5008f87d274"
      },
      "execution_count": 28,
      "outputs": [
        {
          "output_type": "stream",
          "name": "stdout",
          "text": [
            "3\n"
          ]
        }
      ]
    },
    {
      "cell_type": "markdown",
      "source": [
        "# Q 6. How do conditional statements work in Python? Illustrate with examples."
      ],
      "metadata": {
        "id": "d26lC_8T6XsI"
      }
    },
    {
      "cell_type": "markdown",
      "source": [
        "Python's conditional statements enable the running of code according to certain conditions. The fundamental expressions are elif, if, and else. These structures allow Python to make decisions based on conditions.\n"
      ],
      "metadata": {
        "id": "P6LsgUWP6eUI"
      }
    },
    {
      "cell_type": "markdown",
      "source": [
        "## For example, if-else Statement:"
      ],
      "metadata": {
        "id": "0SfcLSCD7Gce"
      }
    },
    {
      "cell_type": "code",
      "source": [
        "y = 4\n",
        "if y > 5:\n",
        "    print(\"y is greater than 5\")\n",
        "else:\n",
        "    print(\"y is 5 or less\")\n"
      ],
      "metadata": {
        "colab": {
          "base_uri": "https://localhost:8080/"
        },
        "id": "c5bOcpNk7UdJ",
        "outputId": "706b9172-9c5b-4060-d6b4-03e80e187266"
      },
      "execution_count": 29,
      "outputs": [
        {
          "output_type": "stream",
          "name": "stdout",
          "text": [
            "y is 5 or less\n"
          ]
        }
      ]
    },
    {
      "cell_type": "markdown",
      "source": [
        "## if Statement:"
      ],
      "metadata": {
        "id": "l9iYIOxV7qO8"
      }
    },
    {
      "cell_type": "code",
      "source": [
        "x = 15\n",
        "if x > 5:\n",
        "    print(\"x is greater than 5\")\n"
      ],
      "metadata": {
        "colab": {
          "base_uri": "https://localhost:8080/"
        },
        "id": "MwhBbQhk7u8j",
        "outputId": "de8c3e55-3b0c-4b51-bd9f-9b7a08904e7b"
      },
      "execution_count": 30,
      "outputs": [
        {
          "output_type": "stream",
          "name": "stdout",
          "text": [
            "x is greater than 5\n"
          ]
        }
      ]
    },
    {
      "cell_type": "markdown",
      "source": [
        "## if-elif-else Chain:"
      ],
      "metadata": {
        "id": "p4K-sGcK73v_"
      }
    },
    {
      "cell_type": "code",
      "source": [
        "z = 8\n",
        "if z > 10:\n",
        "    print(\"z is greater than 10\")\n",
        "elif z == 8:\n",
        "    print(\"z is 8\")\n",
        "else:\n",
        "    print(\"z is less than 8\")\n"
      ],
      "metadata": {
        "colab": {
          "base_uri": "https://localhost:8080/"
        },
        "id": "SKbfaDrI775H",
        "outputId": "4fcb25d9-21e6-4c10-f926-6d28991d0841"
      },
      "execution_count": 32,
      "outputs": [
        {
          "output_type": "stream",
          "name": "stdout",
          "text": [
            "z is 8\n"
          ]
        }
      ]
    },
    {
      "cell_type": "markdown",
      "source": [
        "# Q 7. Describe the different types of loops in Python and their use cases with examples."
      ],
      "metadata": {
        "id": "zY-IL2WL8VvW"
      }
    },
    {
      "cell_type": "markdown",
      "source": [
        "Python has two major forms of loops that are 'for and while' and each of which serves a particular purpose.\n",
        "\n",
        "1. The for loop iterates across a sequence, such as strings, lists, or ranges.\n",
        "\n",
        "Use case: Whenever the number of iterations is predetermined or fixed.\n",
        "\n"
      ],
      "metadata": {
        "id": "TBQh6sFl8bSN"
      }
    },
    {
      "cell_type": "code",
      "source": [
        "fruits = [\"apple\", \"cherry\", \"banana\"]\n",
        "for fruit in fruits:\n",
        "    print(fruit)\n",
        "\n"
      ],
      "metadata": {
        "colab": {
          "base_uri": "https://localhost:8080/"
        },
        "id": "bKnC9luq89tY",
        "outputId": "0007d5ac-d920-4506-fcf7-38fe6a17e40c"
      },
      "execution_count": 35,
      "outputs": [
        {
          "output_type": "stream",
          "name": "stdout",
          "text": [
            "apple\n",
            "cherry\n",
            "banana\n"
          ]
        }
      ]
    },
    {
      "cell_type": "markdown",
      "source": [
        "The while loop performs a piece of code while any condition becomes true.\n",
        "\n",
        "Use case: Whenever the number of iterations is unpredictable and subject to dynamic circumstances.\n"
      ],
      "metadata": {
        "id": "Q65kfe2K9Md8"
      }
    },
    {
      "cell_type": "code",
      "source": [
        "count = 1\n",
        "while count <= 3:\n",
        "    print(\"Count is\", count)\n",
        "    count += 1\n",
        "\n"
      ],
      "metadata": {
        "colab": {
          "base_uri": "https://localhost:8080/"
        },
        "id": "cGHjI1Km9ZJK",
        "outputId": "b451391a-43e6-475e-b8b9-7a88e5ab606e"
      },
      "execution_count": 36,
      "outputs": [
        {
          "output_type": "stream",
          "name": "stdout",
          "text": [
            "Count is 1\n",
            "Count is 2\n",
            "Count is 3\n"
          ]
        }
      ]
    },
    {
      "cell_type": "markdown",
      "source": [
        "Break and continue:\n",
        "Control loop flow; break leaves the loop, whereas proceed skips the present iteration.\n"
      ],
      "metadata": {
        "id": "HN_-IWKX9lph"
      }
    },
    {
      "cell_type": "code",
      "source": [
        "for i in range(5):\n",
        "    if i == 3:\n",
        "        break  # Exits when i is 3\n",
        "    print(i)\n"
      ],
      "metadata": {
        "colab": {
          "base_uri": "https://localhost:8080/"
        },
        "id": "fhLeiApd9zyv",
        "outputId": "45eaf624-b564-475e-cd78-a93d32b51914"
      },
      "execution_count": 37,
      "outputs": [
        {
          "output_type": "stream",
          "name": "stdout",
          "text": [
            "0\n",
            "1\n",
            "2\n"
          ]
        }
      ]
    }
  ]
}